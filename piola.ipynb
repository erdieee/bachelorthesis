{
 "cells": [
  {
   "cell_type": "markdown",
   "id": "2804267f",
   "metadata": {},
   "source": [
    "## Speed comparison using the Piola mapping and without"
   ]
  },
  {
   "cell_type": "code",
   "execution_count": null,
   "id": "f2cead4a",
   "metadata": {},
   "outputs": [],
   "source": [
    "from ngsolve import *\n",
    "from ngsolve.webgui import Draw\n",
    "from netgen.webgui import Draw as DrawGeo\n",
    "from ngsolve.krylovspace import CGSolver\n",
    "from netgen.occ import *\n",
    "import matplotlib.pyplot as plt\n",
    "import numpy as np\n",
    "import time\n",
    "from tqdm import tqdm"
   ]
  },
  {
   "cell_type": "code",
   "execution_count": null,
   "id": "eb3a23c8",
   "metadata": {},
   "outputs": [],
   "source": [
    "def compute_time(mesh, order, geom_free):\n",
    "    fes_p = L2(mesh, order=order+1, all_dofs_together=True) \n",
    "    fes_u = VectorL2(mesh, order=order, piola=True)\n",
    "    fes_tr = FacetFESpace(mesh, order=order+1)\n",
    "    traceop = fes_p.TraceOperator(fes_tr, average=True) \n",
    "    fes = fes_p * fes_u\n",
    "    p1, q1 = fes_p.TnT()\n",
    "    u1, v1 = fes_u.TnT()\n",
    "\n",
    "    n = specialcf.normal(2)\n",
    "\n",
    "    phat1, qhat1 = fes_tr.TnT()\n",
    "    Bel = BilinearForm(trialspace=fes_p, testspace=fes_u, geom_free = geom_free)\n",
    "    Bel += grad(p1)*v1 * dx -p1*(v1*n) * dx(element_boundary=True)\n",
    "    Bel.Assemble()\n",
    "    Btr = BilinearForm(trialspace=fes_tr, testspace=fes_u, geom_free = geom_free)\n",
    "    Btr += phat1 * (v1*n) *dx(element_boundary=True)\n",
    "    Btr.Assemble();\n",
    "\n",
    "    B = Bel.mat + Btr.mat @ traceop\n",
    "\n",
    "    gfp = GridFunction(fes_p)\n",
    "    gfu = GridFunction(fes_u)\n",
    "    gfp.Set(1)\n",
    "    start = time.perf_counter()\n",
    "    gfu.vec.data = B * gfp.vec\n",
    "    delta_time = time.perf_counter() - start\n",
    "    return delta_time, fes_p.ndof"
   ]
  },
  {
   "cell_type": "code",
   "execution_count": null,
   "id": "c250f314",
   "metadata": {
    "scrolled": false
   },
   "outputs": [],
   "source": [
    "ne = []\n",
    "geom_free = []\n",
    "normal = []\n",
    "\n",
    "for i in range(12):\n",
    "    mesh = Mesh(unit_square.GenerateMesh(maxh=1.5**(-i)))\n",
    "    order = 4\n",
    "    delta, dofs = compute_time(mesh, order, True)    \n",
    "    geom_free.append(delta)\n",
    "    delta, dofs = compute_time(mesh, order, False)    \n",
    "    normal.append(delta)\n",
    "    ne.append(dofs)\n",
    "    print(i, mesh.ne, dofs)"
   ]
  },
  {
   "cell_type": "code",
   "execution_count": null,
   "id": "85c35081",
   "metadata": {},
   "outputs": [],
   "source": [
    "normal = np.array(normal)\n",
    "normal = normal * 1000\n",
    "\n",
    "geom_free = np.array(geom_free)\n",
    "geom_free = geom_free * 1000\n",
    "\n",
    "ne = np.array(ne)"
   ]
  },
  {
   "cell_type": "code",
   "execution_count": null,
   "id": "8103d94d",
   "metadata": {},
   "outputs": [],
   "source": [
    "plt.plot(ne, normal, label='Normal')\n",
    "plt.plot(ne, geom_free, label='Piola')\n",
    "# plt.plot(ne, ne/200000)\n",
    "plt.legend()\n",
    "plt.title('')\n",
    "plt.xlabel('ndofs')\n",
    "plt.ticklabel_format(style='sci', axis='x', scilimits=(0,0))\n",
    "plt.ylabel('Time in milliseconds')\n",
    "plt.grid()\n",
    "\n",
    "plt.savefig(f\"../img/piola.png\", dpi=300)\n",
    "plt.show()"
   ]
  },
  {
   "cell_type": "code",
   "execution_count": null,
   "id": "d92fdb16",
   "metadata": {},
   "outputs": [],
   "source": []
  }
 ],
 "metadata": {
  "kernelspec": {
   "display_name": "Python 3 (ipykernel)",
   "language": "python",
   "name": "python3"
  },
  "language_info": {
   "codemirror_mode": {
    "name": "ipython",
    "version": 3
   },
   "file_extension": ".py",
   "mimetype": "text/x-python",
   "name": "python",
   "nbconvert_exporter": "python",
   "pygments_lexer": "ipython3",
   "version": "3.9.10"
  }
 },
 "nbformat": 4,
 "nbformat_minor": 5
}
