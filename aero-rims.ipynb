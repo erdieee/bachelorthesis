{
 "cells": [
  {
   "cell_type": "markdown",
   "id": "98a4bf41",
   "metadata": {},
   "source": [
    "Aero Rims\n",
    "===\n",
    "Simulate hitting an object riding a bike. "
   ]
  },
  {
   "cell_type": "code",
   "execution_count": 1,
   "id": "eceed1a2",
   "metadata": {},
   "outputs": [
    {
     "name": "stdout",
     "output_type": "stream",
     "text": [
      "importing NGSolve-6.2.2301\n"
     ]
    }
   ],
   "source": [
    "from ngsolve import *\n",
    "from ngsolve.webgui import Draw\n",
    "from netgen.webgui import Draw as DrawGeo\n",
    "from ngsolve.krylovspace import CGSolver\n",
    "from netgen.occ import *\n",
    "import matplotlib.pyplot as plt\n",
    "import numpy as np\n",
    "from tqdm import tqdm"
   ]
  },
  {
   "cell_type": "code",
   "execution_count": 2,
   "id": "b56c36a9",
   "metadata": {
    "scrolled": false
   },
   "outputs": [
    {
     "data": {
      "application/vnd.jupyter.widget-view+json": {
       "model_id": "51110ea5406443f8984f500cdde07b56",
       "version_major": 2,
       "version_minor": 0
      },
      "text/plain": [
       "WebGuiWidget(layout=Layout(height='50vh', width='100%'), value={'gui_settings': {}, 'ngsolve_version': '6.2.23…"
      ]
     },
     "metadata": {},
     "output_type": "display_data"
    },
    {
     "data": {
      "text/plain": [
       "BaseWebGuiScene"
      ]
     },
     "execution_count": 2,
     "metadata": {},
     "output_type": "execute_result"
    }
   ],
   "source": [
    "dim = 3\n",
    "h = 10\n",
    "geo = OCCGeometry('aero-rims-w-axle.stp', dim=dim)\n",
    "mesh = Mesh(geo.GenerateMesh(maxh=h)).Curve(1)\n",
    "Draw(mesh)"
   ]
  },
  {
   "cell_type": "code",
   "execution_count": 3,
   "id": "cbc8a79f",
   "metadata": {},
   "outputs": [
    {
     "name": "stdout",
     "output_type": "stream",
     "text": [
      "boundaries:  ('Hauptkörper', 'Hauptkörper', 'Hauptkörper', 'Hauptkörper', 'Hauptkörper', 'Hauptkörper', 'Hauptkörper', 'Hauptkörper', 'Hauptkörper', 'Hauptkörper', 'Hauptkörper', 'Hauptkörper', 'Hauptkörper', 'Hauptkörper', 'Hauptkörper', 'Hauptkörper', 'Hauptkörper', 'Hauptkörper', 'Hauptkörper', 'Hauptkörper', 'Hauptkörper', 'Hauptkörper', 'Hauptkörper', 'Hauptkörper', 'Hauptkörper', 'Hauptkörper', 'Hauptkörper', 'Hauptkörper', 'Hauptkörper', 'Hauptkörper', 'Hauptkörper', 'Hauptkörper', 'Hauptkörper', 'Hauptkörper', 'Hauptkörper', 'Hauptkörper', 'Hauptkörper', 'Hauptkörper', 'Hauptkörper', 'Hauptkörper', 'Hauptkörper', 'Hauptkörper', 'Hauptkörper', 'Hauptkörper', 'Hauptkörper', 'Hauptkörper', 'Hauptkörper', 'Hauptkörper', 'Hauptkörper', 'Hauptkörper', 'Hauptkörper', 'Hauptkörper', 'Hauptkörper', 'Hauptkörper', 'Hauptkörper', 'Hauptkörper', 'Hauptkörper', 'Hauptkörper', 'Hauptkörper', 'Hauptkörper', 'Hauptkörper', 'Hauptkörper', 'Hauptkörper', 'Hauptkörper', 'Hauptkörper', 'Hauptkörper', 'Hauptkörper', 'Hauptkörper', 'Hauptkörper', 'Hauptkörper', 'Hauptkörper', 'Hauptkörper')\n",
      "materials:  ('Hauptkörper',)\n",
      "number elements:  151028\n"
     ]
    }
   ],
   "source": [
    "print(\"boundaries: \", mesh.GetBoundaries())\n",
    "print(\"materials: \", mesh.GetMaterials())\n",
    "print(\"number elements: \", mesh.ne)"
   ]
  },
  {
   "cell_type": "code",
   "execution_count": 4,
   "id": "19bd5a70",
   "metadata": {},
   "outputs": [],
   "source": [
    "order = 1\n",
    "fes_p = L2(mesh, order=order+1, all_dofs_together=True, dgjumps=True) \n",
    "fes_u = VectorL2(mesh, order=order, piola=True, dgjumps=True)\n",
    "fes_tr = FacetFESpace(mesh, order=order+1)\n",
    "fes = fes_p * fes_u\n",
    "\n",
    "traceop = fes_p.TraceOperator(fes_tr, average=True) \n",
    "\n",
    "gfu = GridFunction(fes_u)\n",
    "gfp = GridFunction(fes_p)\n",
    "gftr = GridFunction(fes_tr)\n",
    "\n",
    "gfp.Set( exp(-1/400*((x-325*cos(45))**2+(y-0)**2+(z-325*sin(45))**2)))\n",
    "gftr.vec.data = traceop * gfp.vec\n",
    "\n",
    "p, u = fes.TrialFunction()\n",
    "q, v = fes.TestFunction()\n",
    "phat = fes_tr.TrialFunction()\n",
    "\n",
    "n = specialcf.normal(mesh.dim)\n",
    "dS = dx(skeleton=True) \n",
    "def jump(p): return p.Other()-p\n",
    "def avgn(v): return 0.5*(v*n-v.Other()*n.Other())"
   ]
  },
  {
   "cell_type": "code",
   "execution_count": 5,
   "id": "0a3d6fd2",
   "metadata": {},
   "outputs": [],
   "source": [
    "embp, embu = fes.embeddings"
   ]
  },
  {
   "cell_type": "code",
   "execution_count": 6,
   "id": "8559bf3c",
   "metadata": {},
   "outputs": [
    {
     "name": "stdout",
     "output_type": "stream",
     "text": [
      "dt =  0.1\n",
      "Number of steps:  50.0\n"
     ]
    }
   ],
   "source": [
    "tend = 5\n",
    "dt = 1e-1\n",
    "print (\"dt = \", dt)\n",
    "print(\"Number of steps: \", tend/dt)"
   ]
  },
  {
   "cell_type": "code",
   "execution_count": 7,
   "id": "aaff4af6",
   "metadata": {
    "scrolled": true
   },
   "outputs": [
    {
     "name": "stdout",
     "output_type": "stream",
     "text": [
      "fes ndofs:  3322616\n",
      "fes_u ndofs:  1812336\n",
      "fes_p ndofs:  1510280\n",
      "fes_tr ndofs:  2064768\n"
     ]
    }
   ],
   "source": [
    "print(\"fes ndofs: \", fes.ndof)\n",
    "print(\"fes_u ndofs: \", fes_u.ndof)\n",
    "print(\"fes_p ndofs: \", fes_p.ndof)\n",
    "print(\"fes_tr ndofs: \", fes_tr.ndof)"
   ]
  },
  {
   "cell_type": "code",
   "execution_count": 8,
   "id": "24eb1791",
   "metadata": {},
   "outputs": [
    {
     "data": {
      "application/vnd.jupyter.widget-view+json": {
       "model_id": "dc227085e8e74602abfeb8ae6e3ea347",
       "version_major": 2,
       "version_minor": 0
      },
      "text/plain": [
       "WebGuiWidget(layout=Layout(height='50vh', width='100%'), value={'gui_settings': {}, 'ngsolve_version': '6.2.23…"
      ]
     },
     "metadata": {},
     "output_type": "display_data"
    }
   ],
   "source": [
    "if dim == 2:\n",
    "    Draw (gfp, order=3)\n",
    "else:\n",
    "    gftr.vec.data = traceop * gfp.vec\n",
    "    Draw (gftr, draw_vol=False, order=3);"
   ]
  },
  {
   "cell_type": "code",
   "execution_count": 9,
   "id": "a647e8bb",
   "metadata": {},
   "outputs": [
    {
     "data": {
      "text/plain": [
       "151028"
      ]
     },
     "execution_count": 9,
     "metadata": {},
     "output_type": "execute_result"
    }
   ],
   "source": [
    "mesh.ne"
   ]
  },
  {
   "cell_type": "code",
   "execution_count": 10,
   "id": "edb28e75",
   "metadata": {
    "scrolled": true
   },
   "outputs": [
    {
     "name": "stdout",
     "output_type": "stream",
     "text": [
      "max 7.654216259927644\n",
      "min 0.02090160820817572\n",
      "mean 0.29035692621612563\n",
      "median 0.28841966713789413\n",
      "ref_norm 0.40649969670257585\n"
     ]
    }
   ],
   "source": [
    "F = specialcf.JacobianMatrix(mesh.dim)\n",
    "Finv = Inv(F)\n",
    "detF = Det(F)\n",
    "Norm_Finv = Norm(Finv)\n",
    "el_norms = Integrate(Norm_Finv*1/detF.Norm(), mesh, element_wise=True)\n",
    "el_norms_numpy = np.array(el_norms)\n",
    "\n",
    "sorted_el_norms = -np.sort(-el_norms_numpy) #sort descending\n",
    "# ref_index = int(4*sqrt(len(sorted_el_norms))) # sqrt(n) elements as implcit where n is mesh.ne,\n",
    "# ref_norm = sorted_el_norms[ref_index]\n",
    "ref_norm = el_norms_numpy.mean()*1.4# using elements > mean \n",
    "impl_els = np.where(el_norms_numpy > ref_norm, 1, 0)\n",
    "    \n",
    "print('max', max(el_norms_numpy))\n",
    "print('min', min(el_norms_numpy))\n",
    "print('mean', el_norms_numpy.mean())\n",
    "print('median', np.median(el_norms_numpy))\n",
    "print('ref_norm', ref_norm)"
   ]
  },
  {
   "cell_type": "code",
   "execution_count": 11,
   "id": "eb83f004",
   "metadata": {},
   "outputs": [],
   "source": [
    "ba_implicit_els = BitArray(mesh.ne)\n",
    "ba_explicit_els = BitArray(mesh.ne)\n",
    "ba_interface_edges = BitArray(mesh.nedge)\n",
    "ba_explicit_edges = BitArray(mesh.nedge)\n",
    "ba_implicit_edges = BitArray(mesh.nedge)\n",
    "\n",
    "ba_implicit_els[:] = 0\n",
    "ba_explicit_els[:] = 0\n",
    "ba_interface_edges[:] = 0\n",
    "ba_explicit_edges[:] = 0\n",
    "ba_implicit_edges[:] = 0\n",
    "\n",
    "for el in mesh.Elements():\n",
    "    if impl_els[el.nr] == 1:\n",
    "        ba_implicit_els[el.nr] = 1\n",
    "        for e in el.edges:\n",
    "            ba_implicit_edges[e.nr] = 1\n",
    "    else:\n",
    "        ba_explicit_els[el.nr] = 1\n",
    "        for e in el.edges:\n",
    "            ba_explicit_edges[e.nr] = 1\n",
    "        \n",
    "ba_interface_edges = ba_explicit_edges & ba_implicit_edges     "
   ]
  },
  {
   "cell_type": "code",
   "execution_count": 12,
   "id": "b8b01a27",
   "metadata": {},
   "outputs": [],
   "source": [
    "ba_local_implicit_dofs = BitArray(fes.ndof)\n",
    "ba_local_implicit_dofs[:] = 0\n",
    "\n",
    "for el in mesh.Elements():\n",
    "    if ba_implicit_els[el.nr] == 1:\n",
    "        for nr in fes.GetDofNrs(el):\n",
    "            ba_local_implicit_dofs[nr] = 1\n",
    "    if ba_explicit_els[el.nr] == 1:\n",
    "        for e in el.edges:\n",
    "            if ba_interface_edges[e.nr] == 1:\n",
    "                for nr in fes.GetDofNrs(el):\n",
    "                    ba_local_implicit_dofs[nr] = 1\n",
    "\n",
    "ba_local_implicit_dofs_u = BitArray(fes_u.ndof)\n",
    "ba_local_implicit_dofs_u[:] = 0\n",
    "\n",
    "for el in mesh.Elements():\n",
    "    if ba_implicit_els[el.nr] == 1:\n",
    "        for nr in fes_u.GetDofNrs(el):\n",
    "            ba_local_implicit_dofs_u[nr] = 1\n",
    "    if ba_explicit_els[el.nr] == 1:\n",
    "        for e in el.edges:\n",
    "            if ba_interface_edges[e.nr] == 1:\n",
    "                for nr in fes_u.GetDofNrs(el):\n",
    "                    ba_local_implicit_dofs_u[nr] = 1"
   ]
  },
  {
   "cell_type": "markdown",
   "id": "47d2705a",
   "metadata": {},
   "source": [
    "Combine linear operators:"
   ]
  },
  {
   "cell_type": "code",
   "execution_count": 13,
   "id": "725e853a",
   "metadata": {},
   "outputs": [],
   "source": [
    "A = BilinearForm(fes)\n",
    "A += -p*q*dx +u*v*dx \n",
    "A += dt/2*(grad(p)*v + grad(q)*u)*dx\n",
    "A += dt/2*(jump(p)*avgn(v)+jump(q)*avgn(u)) * dS\n",
    "A.Assemble()\n",
    "\n",
    "p1, q1 = fes_p.TnT()\n",
    "u1, v1 = fes_u.TnT()\n",
    "phat1, qhat1 = fes_tr.TnT()\n",
    "Bel = BilinearForm(trialspace=fes_p, testspace=fes_u, geom_free = True)\n",
    "Bel += grad(p1)*v1 * dx -p1*(v1*n) * dx(element_boundary=True)\n",
    "Bel.Assemble()\n",
    "Btr = BilinearForm(trialspace=fes_tr, testspace=fes_u, geom_free = True)\n",
    "Btr += phat1 * (v1*n) *dx(element_boundary=True)\n",
    "Btr.Assemble();\n",
    "\n",
    "B = Bel.mat + Btr.mat @ traceop\n",
    "B_T = B.T"
   ]
  },
  {
   "cell_type": "code",
   "execution_count": 14,
   "id": "40c11b19",
   "metadata": {},
   "outputs": [],
   "source": [
    "massu = fes_u.Mass(1)\n",
    "invmassu = fes_u.Mass(1).Inverse()\n",
    "invmassp = fes_p.Mass(1).Inverse()"
   ]
  },
  {
   "cell_type": "code",
   "execution_count": 15,
   "id": "a14dd59c",
   "metadata": {},
   "outputs": [
    {
     "name": "stdout",
     "output_type": "stream",
     "text": [
      "shape B_e:  (558468, 465390)\n",
      "shape B_i:  (558468, 465390)\n",
      "shape Ps:  (558468, 558468)\n"
     ]
    }
   ],
   "source": [
    "Ps = Projector(ba_local_implicit_dofs_u, True)   # projection to small\n",
    "Pl = Projector(ba_local_implicit_dofs_u, False)  # projection to large\n",
    "B_e = Pl @ B\n",
    "B_i = Ps @ B\n",
    "print (\"shape B_e: \", B_e.shape)\n",
    "print (\"shape B_i: \", B_i.shape)\n",
    "print (\"shape Ps: \", Ps.shape)"
   ]
  },
  {
   "cell_type": "code",
   "execution_count": 16,
   "id": "d0d64d98",
   "metadata": {},
   "outputs": [
    {
     "name": "stdout",
     "output_type": "stream",
     "text": [
      "local implicit dofs:  262680 / 1023858\n",
      "local implicit dofs of fes u:  143280 / 558468\n"
     ]
    }
   ],
   "source": [
    "print (\"local implicit dofs: \", ba_local_implicit_dofs.NumSet(),\"/\",len(ba_local_implicit_dofs))\n",
    "print (\"local implicit dofs of fes u: \", ba_local_implicit_dofs_u.NumSet(),\"/\",len(ba_local_implicit_dofs_u))"
   ]
  },
  {
   "cell_type": "code",
   "execution_count": 17,
   "id": "e9c2994f",
   "metadata": {},
   "outputs": [],
   "source": [
    "invA = A.mat.Inverse(freedofs=ba_local_implicit_dofs, inverse=\"sparsecholesky\")\n",
    "\n",
    "# delete non zeros elements of matrix to speed up matrix multiplication\n",
    "Anze = A.mat.DeleteZeroElements(10e-12)\n",
    "invAnze = Anze.Inverse(freedofs=ba_local_implicit_dofs, inverse=\"sparsecholesky\")\n",
    "invmstar = embu.T @ invAnze @ embu\n",
    "mstarloc = massu + dt*dt/4*B_i @ invmassp @ B_T"
   ]
  },
  {
   "cell_type": "code",
   "execution_count": 18,
   "id": "73bb02f9",
   "metadata": {},
   "outputs": [
    {
     "data": {
      "text/plain": [
       "(101951212, 36451800, 20098142)"
      ]
     },
     "execution_count": 18,
     "metadata": {},
     "output_type": "execute_result"
    }
   ],
   "source": [
    "A.mat.nze, invA.nze, Anze.nze"
   ]
  },
  {
   "cell_type": "code",
   "execution_count": 19,
   "id": "ef74145d",
   "metadata": {},
   "outputs": [],
   "source": [
    "invmassuB = invmassu @ B\n",
    "invmasspB_T = invmassp @ B_T\n",
    "invmstar_mstar = invmstar @ mstarloc"
   ]
  },
  {
   "cell_type": "code",
   "execution_count": 20,
   "id": "2d7d59ce",
   "metadata": {
    "scrolled": false
   },
   "outputs": [
    {
     "data": {
      "application/vnd.jupyter.widget-view+json": {
       "model_id": "956755adad5644f295b5062f20f8c8d1",
       "version_major": 2,
       "version_minor": 0
      },
      "text/plain": [
       "WebGuiWidget(layout=Layout(height='50vh', width='100%'), value={'gui_settings': {}, 'ngsolve_version': '6.2.23…"
      ]
     },
     "metadata": {},
     "output_type": "display_data"
    }
   ],
   "source": [
    "# visualize implicit dofs\n",
    "from time import sleep\n",
    "ba_gfu = BitArray(fes.ndof)\n",
    "ba_gfu[:] = 0\n",
    "gfuim = GridFunction(fes)\n",
    "gfuim.vec[:] = 0\n",
    "for i in range(len(ba_local_implicit_dofs)):\n",
    "    if ba_local_implicit_dofs[i] == 1:\n",
    "        gfuim.vec.data[i] = 1\n",
    "\n",
    "if dim ==2:\n",
    "    Draw(gfuim.components[0], mesh)\n",
    "else:\n",
    "    gftrtest = GridFunction(fes_tr)\n",
    "    gftrtest.vec.data = traceop * gfuim.components[0].vec\n",
    "    Draw(gftrtest, draw_vol=False, order=3);"
   ]
  },
  {
   "cell_type": "code",
   "execution_count": 23,
   "id": "362a6f7a",
   "metadata": {
    "scrolled": false
   },
   "outputs": [
    {
     "data": {
      "application/vnd.jupyter.widget-view+json": {
       "model_id": "4d9411ac730e41559aae38aa7de55b1d",
       "version_major": 2,
       "version_minor": 0
      },
      "text/plain": [
       "WebGuiWidget(layout=Layout(height='50vh', width='100%'), value={'gui_settings': {}, 'ngsolve_version': '6.2.23…"
      ]
     },
     "metadata": {},
     "output_type": "display_data"
    }
   ],
   "source": [
    "if dim == 2:\n",
    "    scene = Draw (gfp, order=3, deformation=True);\n",
    "else:\n",
    "    scene = Draw (gftr, draw_vol=False, order=3);"
   ]
  },
  {
   "cell_type": "code",
   "execution_count": null,
   "id": "f0fd8e18",
   "metadata": {},
   "outputs": [],
   "source": []
  },
  {
   "cell_type": "code",
   "execution_count": 24,
   "id": "aec05549",
   "metadata": {
    "scrolled": false
   },
   "outputs": [
    {
     "name": "stderr",
     "output_type": "stream",
     "text": [
      "Time step 4999: 100%|███████████████████████████████████████| 5000/5000 [09:05<00:00,  9.17it/s, Time 499.9000 seconds]\n"
     ]
    }
   ],
   "source": [
    "gfp.Set( exp(-1/400*((x-325*cos(45))**2+(y-0)**2+(z-325*sin(45))**2)))\n",
    "gfu.vec[:] = 0\n",
    "gfp_halfstep = gfp.vec.CreateVector()\n",
    "gfuold = gfu.vec.CreateVector()\n",
    "res = gfu.vec.CreateVector()\n",
    " \n",
    "tend = 500    \n",
    "\n",
    "t = 0\n",
    "cnt = 0\n",
    "loop = tqdm([i*dt for i in range(int(tend/dt))])\n",
    "with TaskManager():#pajetrace=10**8):\n",
    "    for i in loop:\n",
    "        #t = t+dt\n",
    "        \n",
    "        gfp_halfstep.data = gfp.vec - dt/2 * invmassp @ B.T * gfu.vec\n",
    "        \n",
    "        res.data = dt * B_e * gfp_halfstep + dt/2 * B_i * (gfp_halfstep + gfp.vec) + massu * gfu.vec\n",
    "        gfuold.data = invmassu * res \n",
    "        gfu.vec.data = gfuold\n",
    "        gfu.vec.data += invmstar * (res - mstarloc * gfuold)\n",
    "        gfp.vec.data = gfp_halfstep - dt/2 * invmassp @ B.T * gfu.vec\n",
    "        cnt = cnt+1\n",
    "        if cnt%10 == 0:\n",
    "            if dim == 3:\n",
    "                gftr.vec.data = traceop * gfp.vec\n",
    "            scene.Redraw()\n",
    "        loop.set_description(f'Time step {i/dt:.0f}')\n",
    "        loop.set_postfix_str(f'Time {i:.4f} seconds')"
   ]
  },
  {
   "cell_type": "code",
   "execution_count": null,
   "id": "60e8e70b",
   "metadata": {},
   "outputs": [],
   "source": []
  }
 ],
 "metadata": {
  "kernelspec": {
   "display_name": "Python 3 (ipykernel)",
   "language": "python",
   "name": "python3"
  },
  "language_info": {
   "codemirror_mode": {
    "name": "ipython",
    "version": 3
   },
   "file_extension": ".py",
   "mimetype": "text/x-python",
   "name": "python",
   "nbconvert_exporter": "python",
   "pygments_lexer": "ipython3",
   "version": "3.9.10"
  }
 },
 "nbformat": 4,
 "nbformat_minor": 5
}
